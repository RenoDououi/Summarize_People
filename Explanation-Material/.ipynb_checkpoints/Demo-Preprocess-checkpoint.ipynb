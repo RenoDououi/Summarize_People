{
 "cells": [
  {
   "cell_type": "code",
   "execution_count": null,
   "metadata": {},
   "outputs": [],
   "source": [
    "import re\n",
    "import math\n",
    "\n",
    "name = \"楊三郎\"\n",
    "text = \"\"\"\n",
    "第三章　大眾文化\n",
    "2 5 7\n",
    "楊三郎 79（1919.10.18-1989.05.25）\n",
    "臺北永和人，本名楊我成，藝名三郎，日本\n",
    "時代改姓名八島三郎。6歲時全家遷居至臺北大\n",
    "稻埕。大正 15年（1926），進入日新公學校（今\n",
    "日新國小）就讀，昭和 7年（1932），考入 5年\n",
    "制成淵中學（今成淵中學）。求學期間因喜愛音\n",
    "樂，故積極參加學校樂隊，擔任小喇叭手。昭和\n",
    "12年（1937）畢業後，未繼續升學，到舞廳擔任\n",
    "電梯服務員，並在此時認識舞廳內的樂團老師鄭\n",
    "玉東，在其指導下學習小提琴、小喇叭等樂器，\n",
    "後來學有小成，因此獲得在大稻埕同聲俱樂部舞廳表演的機會。\n",
    "昭和 12年（1937）留學日本，拜音樂家清水茂雄為師，學習理論作曲、\n",
    "編曲等正統音樂教育。老師清水茂雄組有樂隊，因此白天上課練習，晚上\n",
    "即在老師的樂隊中演奏賺錢，且開始以「三郎」為藝名。昭和 14年（1939）\n",
    "學藝期滿離開師門，應徵至東京少女歌舞團工作，但因私人因素無法繼續任\n",
    "職。昭和 15年（1940），因在外地任職薪水較高，故前往中國東北，在哈爾\n",
    "濱市元祿夜總會工作，後陸續在大連、長春、瀋陽、青島等地舞廳擔任樂團\n",
    "的演奏樂師，直到昭和 19年（1944）才返回臺灣。80\n",
    "民國 34年（1945）8月，二次大戰結束後，因無法馬上找到工作，零星\n",
    "接點小演出、跑街頭的短期工。民國 35年（1946）臺北放送局被接收，更名\n",
    "為臺灣廣播電臺，呂泉生（另有傳）出任演藝組長，負責唱片和娛樂、文藝\n",
    "節目。在呂泉生的邀請下，進入電臺擔任喇叭手，參與每週一回介紹臺灣歌\n",
    "謠的節目。也在此時開始譜曲創作，並由樂隊鼓手黃仲鑫（日本時代以中野\n",
    "為藝名，又名那卡諾）協助填詞，創作出處女作〈望你早歸〉一曲。由於歌\n",
    "詞符合戰後臺灣人思念在海外參加戰爭的親人，希望早日相見的心情，因此\n",
    "廣受好評，由此也建立起創作的自信。\n",
    "79 照片來源：郭麗娟，〈港都夜雨落袜停　歌謠作曲界的奇葩―楊三郎〉，收錄於鄭恆隆、郭麗\n",
    "娟，《臺灣歌謠臉譜》（臺北：玉山社，2002），頁 158。\n",
    "80 郭麗娟，〈港都夜雨落袜停　歌謠作曲界的奇葩―楊三郎〉，頁 160-161。\n",
    "2 5 8\n",
    "民國 36年（1947）春，受邀前往廈門羽衣舞廳工作，但因國共內戰激\n",
    "烈，在戰爭影響下又匆匆回臺。返臺後，仍持續歌謠創作，且為了宣傳作\n",
    "品，民國 47年（1948）自組 GGS樂隊，遊走於臺北艋舺龍山寺、大稻埕慈\n",
    "聖宮、圓環附近人潮眾多的地方露天演唱，並推銷簡便編印、每本內附 8至\n",
    "10首歌謠的歌本。同年在臺北圓環舉辦歌謠發表會，會中結識作詞家周添\n",
    "旺（另有傳），此後兩人共同譜出多首膾炙人口的作品，如〈孤戀花〉、〈秋風\n",
    "夜雨〉、〈思念故鄉〉、〈春風歌聲〉、〈臺北上午零時〉等曲目。81\n",
    "民國 41年（1952），有感於表演活動必須精緻化，故與樂師好友黃仲\n",
    "鑫、白明華、白鳥全書等人一同籌組黑貓歌舞團，團內設有著作部與企畫\n",
    "部。在團裡負責作曲、編寫演奏樂譜、指揮樂團及演出工作，表演曲目包括\n",
    "個人創作及本土作曲家們的新作，也常演奏世界各地名曲。歌舞編排則由黃\n",
    "仲鑫、白鳥全書負責，另聘請舞師劉波羅、舞星謝素、葉寶玉，以及東北劇\n",
    "人王琛（藝名上官梅心）等人加入，篩選並指導青春窈窕的女舞者演出，資\n",
    "深演員文英（另有傳）、素珠均曾是團員之一，團內人數曾達到 4、50人。82\n",
    "民國 40、50年代，黑貓歌舞團巡迴全臺進行勞軍、演出活動，在娛樂\n",
    "缺乏的年代裡，所到之處引起轟動。83但由於電視日漸普遍，加上以脫衣舞\n",
    "號召之歌舞團大量出現競爭，使得堅持不走情色路線、正派經營的黑貓歌\n",
    "舞團逐漸流失觀眾群，歌舞團經營日益艱困，民國 54年（1965）不得不解\n",
    "散。84\n",
    "黑貓歌舞團經營權易主後，為顧及家中生計，再次回到酒店擔任樂隊\n",
    "領隊，因收入不穩定，陸續將作品版權賣給海山唱片公司，以求度日。民\n",
    "國 60年（1971），位於永和仁愛街的祖屋，受都市計畫之益，依法變更為建\n",
    "地，價值翻漲，變賣祖屋後，民國 65年（1976）在桃園縣觀音鄉購買了一塊\n",
    "土地，開設尚大牧場，從事大規模的畜禽飼養。85\n",
    "81 廖純瑩，〈移植與內化：五、六○年代臺語翻唱歌曲研究〉（臺南：國立成功大學藝術研究所碩\n",
    "士論文，2007）。\n",
    "82 〈小喇叭聖手楊三郎〉，《聯合報》，1954年 4月 10日，第 6版。\n",
    "83 〈黑猫歌舞團抵梧棲勞軍〉，《臺灣民聲日報》，1956年 4月 16日，第 4版。\n",
    "84 蔡文婷，〈台語歌謠望春風〉，《光華》27:5（2002），頁 15。\n",
    "85 胡健國主編，〈楊三郎先生大事記〉，收入國史館編，《國史館現藏民國人物傳記史料彙編第\n",
    "第三章　大眾文化\n",
    "2 5 9\n",
    "經營牧場之餘，也未完全停止音樂創作。民國 68年（1979）夏，受好友\n",
    "陳和平之邀，為當時年僅 12歲的蔡秋鳳譜寫〈姊妹情深〉、〈黃昏約會〉兩首\n",
    "歌曲。民國 76年（1987），因家人經商失敗，為代償債務，賣掉尚大牧場，\n",
    "經濟再次陷入困境。\n",
    "由於當時臺語歌曲再度受到歡迎，賣座情況良好，因此重新返回臺語歌\n",
    "謠作曲崗位，民國 76年（1987）為知名歌手費玉清寫了〈懷念的人〉一曲，\n",
    "之後陸續為廖峻、李芊慧等歌手譜寫近 10首臺語歌。民國 78年（1989）2\n",
    "月，應「吾鄉吾土」製作人鄭恆隆先生之邀，在臺北市濟南長老教會所舉辦\n",
    "的臺灣民謠歌唱會上，詳細為與會者解說每首歌的創作背景與典故，並帶領\n",
    "與會者同唱，這是楊三郎生前第一次也是最後一次公開演講。86\n",
    "妻林玉英，民國 34年（1945）結婚，婚後育有 2子 4女。（范燕秋、陳\n",
    "世芳撰）\n",
    "二十九輯》 （臺北：國史館，2006），頁 555。\n",
    "86 郭麗娟，〈港都夜雨落未停歌謠作曲界的奇葩―楊三郎〉，頁 168。\n",
    "\"\"\"\n",
    "\n",
    "biography = {\n",
    "                \"Name\" : name, \n",
    "                \"Alias_s\" : [],\n",
    "                \"Category\" : \"\",\n",
    "                \"StartPage\" : -1, \n",
    "                \"EndPage\" : -1,\n",
    "                \"Authors\" : [],\n",
    "                \"Notes\" : \"\",\n",
    "                \"footnotes\" : [],\n",
    "                \"Locations\" : [],\n",
    "                \"Identities\" : [],\n",
    "                \"ChronologicalTable\" : [],\n",
    "                \"Birth\" : \"\",\n",
    "                \"Death\" : \"\",\n",
    "                \"BirthPlace\" : \"\",\n",
    "                \"Hometown\" : \"\"\n",
    "            }"
   ]
  },
  {
   "cell_type": "code",
   "execution_count": null,
   "metadata": {},
   "outputs": [],
   "source": [
    "# 清掉章節標題\n",
    "match = re.search(r'^(第\\w章)　(\\w+)$', text, flags=re.MULTILINE)\n",
    "if match: # 有可能沒有章節標題， 所以要先看有沒有找到\n",
    "    chapter_th = match[1]\n",
    "    category   = match[2]\n",
    "    text = text.replace(\"{}　{}\\n\".format(chapter_th, category), \"\")\n",
    "    text = text.replace(\"{}\\n{}\\n\".format(category, chapter_th), \"\")"
   ]
  },
  {
   "cell_type": "code",
   "execution_count": null,
   "metadata": {},
   "outputs": [],
   "source": [
    "print(text)"
   ]
  },
  {
   "cell_type": "code",
   "execution_count": null,
   "metadata": {},
   "outputs": [],
   "source": [
    "# 找出每條附註前面會有的小數字們\n",
    "footnote_indices = re.findall(r'\\n(\\d+) \\w\\w', text)   "
   ]
  },
  {
   "cell_type": "code",
   "execution_count": null,
   "metadata": {},
   "outputs": [],
   "source": [
    "print(footnote_indices)"
   ]
  },
  {
   "cell_type": "code",
   "execution_count": null,
   "metadata": {},
   "outputs": [],
   "source": [
    "# 先依頁碼分成多個頁\n",
    "# 先依頁碼分成多個頁\n",
    "page_s = re.split(r'^\\d \\d \\d$', text, flags=re.MULTILINE)\n",
    "content_part_s = [] # 各頁的內文部分\n",
    "footnote_part_s = [] # 各頁的附註部分\n",
    "for page in page_s:\n",
    "    cut_at = math.inf # 內文和附註的切割點\n",
    "\n",
    "    # 利用附註小數字的格式找出本頁第一條附註位置\n",
    "    match = re.search(r'^\\d+ ', page , flags=re.MULTILINE)\n",
    "    if match:\n",
    "        mStart, mEnd = match.span()\n",
    "        cut_at = mStart\n",
    "\n",
    "    # 一條附註可能被斷到兩頁，則下一頁的附註一開始就是上一頁的附註的接續，沒有附註小數字\n",
    "    # 看附註結尾來辨識出在下一頁開頭的接續的附註(不是完全可靠)\n",
    "    match = re.search(r'^.+，(頁[\\d\\- ]+|第[\\d\\- ]+版)。$',page ,flags=re.MULTILINE)\n",
    "    if match:\n",
    "        mStart, mEnd = match.span()\n",
    "        cut_at = min(mStart, cut_at)\n",
    "\n",
    "    if cut_at is not math.inf:\n",
    "        content_part = page[:cut_at]\n",
    "        footnote_part = page[cut_at:]\n",
    "        content_part_s.append(content_part)\n",
    "        footnote_part_s.append(footnote_part)\n",
    "    else:\n",
    "        content_part_s.append(page)\n",
    "            \n",
    "content_text = \"\".join(content_part_s) # 把各頁的內文部分結合成內文 \n",
    "footnote_text = \"\".join(footnote_part_s) # 把各頁的附註部分結合成附註\n",
    "\n",
    "content = content_text\n",
    "footnote = footnote_text"
   ]
  },
  {
   "cell_type": "code",
   "execution_count": null,
   "metadata": {},
   "outputs": [],
   "source": [
    "print(content)\n",
    "print(\"--------------------------------------------------\")\n",
    "print(footnote)"
   ]
  },
  {
   "cell_type": "code",
   "execution_count": null,
   "metadata": {},
   "outputs": [],
   "source": [
    "# 第一種附註小數字出現的場合\n",
    "content = re.sub(name+' ?'+str(footnote_indices[0])+' ?（', \"{}（\".format(name),content , 1)\n",
    "# 第二種附註小數字出現的場合\n",
    "for index in footnote_indices[1:]:  \n",
    "    content = re.sub(\"([。，])\" + index, r'\\g<1>', content, count=1)"
   ]
  },
  {
   "cell_type": "code",
   "execution_count": null,
   "metadata": {},
   "outputs": [],
   "source": [
    "print(content)"
   ]
  },
  {
   "cell_type": "code",
   "execution_count": null,
   "metadata": {},
   "outputs": [],
   "source": [
    "# 清掉所有不需要的空格\n",
    "# 先把需要的空格轉成另一個字符記錄起來，清完空格再回復原狀\n",
    "content = re.sub(r'([a-zA-Z,]) ([a-zA-Z,])', '\\g<1>Ä\\g<2>', content)\n",
    "content = re.sub(r'(\\n\\d+) ', '\\g<1>Ä', content)\n",
    "content = content.replace(\" \",\"\")\n",
    "content = content.replace(\"Ä\", \" \")\n",
    "\n",
    "footnote = re.sub(r'([a-zA-Z,]) ([a-zA-Z,])', '\\g<1>Ä\\g<2>', footnote)\n",
    "footnote = re.sub(r'(\\n\\d+) ', '\\g<1>Ä', footnote)\n",
    "footnote = footnote.replace(\" \",\"\")\n",
    "footnote = footnote.replace(\"Ä\", \" \")"
   ]
  },
  {
   "cell_type": "code",
   "execution_count": null,
   "metadata": {},
   "outputs": [],
   "source": [
    "# 處理newline，內文分出段落\n",
    "\n",
    "# 因為句號後面換行的通常是一段落的結尾(但也可能不是)\n",
    "content = content.replace(\"。\\n\", \"Å\")\n",
    "content = content.replace(\"\\n\", \"\")\n",
    "content = content.replace(\"Å\", \"。\\n\\n\")\n",
    "\n",
    "footnote = footnote.replace(\"。\\n\", \"Å\")\n",
    "footnote = footnote.replace(\"\\n\", \"\")\n",
    "footnote = footnote.replace(\"Å\", \"。\\n\\n\")"
   ]
  },
  {
   "cell_type": "code",
   "execution_count": null,
   "metadata": {},
   "outputs": [],
   "source": [
    "print(content)\n",
    "print(\"--------------------------------------------------\")\n",
    "print(footnote)"
   ]
  },
  {
   "cell_type": "code",
   "execution_count": null,
   "metadata": {},
   "outputs": [],
   "source": [
    "footnote = footnote[:-2] # 去掉最後的兩個newline\n",
    "f_lines = footnote.split('\\n\\n') # 這樣最後就不會多一個空的split，各條附註分開\n",
    "biography[\"Footnotes\"] = list(map(lambda line: line.split(\" \"), f_lines)) # 把各條附註小數字和其註釋分開"
   ]
  },
  {
   "cell_type": "code",
   "execution_count": null,
   "metadata": {},
   "outputs": [],
   "source": [
    "biography[\"Footnotes\"]"
   ]
  },
  {
   "cell_type": "code",
   "execution_count": null,
   "metadata": {},
   "outputs": [],
   "source": [
    "# 從內文去掉傳記撰者，並保存在傳記資訊\n",
    "match = re.search(r'（([\\w、]+)撰寫?）', content, flags=re.MULTILINE) # $\n",
    "author_line = match[0]\n",
    "biography[\"Authors\"] = match[1].split(\"、\")\n",
    "content = content.replace(author_line, \"\")"
   ]
  },
  {
   "cell_type": "code",
   "execution_count": null,
   "metadata": {},
   "outputs": [],
   "source": [
    "print(biography[\"Authors\"])\n",
    "print(\"-------------------------------------------------\")\n",
    "print(content_text)"
   ]
  },
  {
   "cell_type": "code",
   "execution_count": null,
   "metadata": {},
   "outputs": [],
   "source": [
    "# 從內文去掉傳記標題，保存別名， 生日日期，死亡日期\n",
    "reg = name + \"（(.+，)?([\\d?.]*)-([\\d?.]*)）\"\n",
    "title = re.search(reg, content, flags=re.MULTILINE)\n",
    "if len(title.groups()) == 2:\n",
    "    biography[\"Birth\"] = title[1] # group1\n",
    "    biography[\"Death\"] = title[2] # group2\n",
    "else:\n",
    "    biography[\"Alias_s\"].append(title[1])\n",
    "    biography[\"Birth\"] = title[2]\n",
    "    biography[\"Death\"] = title[3]\n",
    "    \n",
    "content = content.replace(title[0], \"\") # replace Whole match with empty string"
   ]
  },
  {
   "cell_type": "code",
   "execution_count": null,
   "metadata": {},
   "outputs": [],
   "source": [
    "print(content)"
   ]
  }
 ],
 "metadata": {
  "kernelspec": {
   "display_name": "Python 3",
   "language": "python",
   "name": "python3"
  },
  "language_info": {
   "codemirror_mode": {
    "name": "ipython",
    "version": 3
   },
   "file_extension": ".py",
   "mimetype": "text/x-python",
   "name": "python",
   "nbconvert_exporter": "python",
   "pygments_lexer": "ipython3",
   "version": "3.6.5"
  }
 },
 "nbformat": 4,
 "nbformat_minor": 2
}
